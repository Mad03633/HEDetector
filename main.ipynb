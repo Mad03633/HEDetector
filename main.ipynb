{
 "cells": [
  {
   "cell_type": "code",
   "execution_count": 1,
   "metadata": {},
   "outputs": [],
   "source": [
    "import cv2"
   ]
  },
  {
   "cell_type": "code",
   "execution_count": 11,
   "metadata": {},
   "outputs": [],
   "source": [
    "# Load the input image\n",
    "img = cv2.imread(\"image.jpg\")\n",
    "\n",
    "# Resize the input\n",
    "img_resized = cv2.resize(img, (224, 224))"
   ]
  },
  {
   "cell_type": "code",
   "execution_count": 12,
   "metadata": {},
   "outputs": [],
   "source": [
    "blob = cv2.dnn.blobFromImage(img_resized, scalefactor=1.0, size=(224, 224), swapRB=False, crop=False)\n",
    "\n",
    "# Load the pre-trained HED model using Caffe framework\n",
    "net = cv2.dnn.readNetFromCaffe(\"deploy.prototxt\", \"hed_pretrained_bsds.caffemodel\")"
   ]
  },
  {
   "cell_type": "code",
   "execution_count": 13,
   "metadata": {},
   "outputs": [],
   "source": [
    "net.setInput(blob)\n",
    "\n",
    "# Perform a forward pass to compute the edge detection result\n",
    "hed = net.forward()"
   ]
  },
  {
   "cell_type": "code",
   "execution_count": 14,
   "metadata": {},
   "outputs": [],
   "source": [
    "# Resize the HED result to match the original image dimensions\n",
    "hed = cv2.resize(hed[0, 0], (224, 224))\n",
    "\n",
    "# Convert the HED result to an 8-bit image format\n",
    "hed = (255 * hed).astype(\"uint8\")"
   ]
  },
  {
   "cell_type": "code",
   "execution_count": 17,
   "metadata": {},
   "outputs": [
    {
     "ename": "KeyboardInterrupt",
     "evalue": "",
     "output_type": "error",
     "traceback": [
      "\u001b[1;31m---------------------------------------------------------------------------\u001b[0m",
      "\u001b[1;31mKeyboardInterrupt\u001b[0m                         Traceback (most recent call last)",
      "Cell \u001b[1;32mIn[17], line 9\u001b[0m\n\u001b[0;32m      5\u001b[0m combined \u001b[38;5;241m=\u001b[39m cv2\u001b[38;5;241m.\u001b[39mhconcat([img_resized, hed_bgr])\n\u001b[0;32m      7\u001b[0m cv2\u001b[38;5;241m.\u001b[39mimshow(\u001b[38;5;124m\"\u001b[39m\u001b[38;5;124mInput and HED Output\u001b[39m\u001b[38;5;124m\"\u001b[39m, combined)\n\u001b[1;32m----> 9\u001b[0m \u001b[43mcv2\u001b[49m\u001b[38;5;241;43m.\u001b[39;49m\u001b[43mwaitKey\u001b[49m\u001b[43m(\u001b[49m\u001b[38;5;241;43m0\u001b[39;49m\u001b[43m)\u001b[49m\n",
      "\u001b[1;31mKeyboardInterrupt\u001b[0m: "
     ]
    }
   ],
   "source": [
    "# Convert the grayscale HED output to BGR format so it can be concatenated with the color input image\n",
    "hed_bgr = cv2.cvtColor(hed, cv2.COLOR_GRAY2BGR)\n",
    "\n",
    "# Ensure both images are the same size before concatenation\n",
    "combined = cv2.hconcat([img_resized, hed_bgr])\n",
    "\n",
    "cv2.imshow(\"Input and HED Output\", combined)\n",
    "\n",
    "cv2.waitKey(0)"
   ]
  }
 ],
 "metadata": {
  "kernelspec": {
   "display_name": "Python 3",
   "language": "python",
   "name": "python3"
  },
  "language_info": {
   "codemirror_mode": {
    "name": "ipython",
    "version": 3
   },
   "file_extension": ".py",
   "mimetype": "text/x-python",
   "name": "python",
   "nbconvert_exporter": "python",
   "pygments_lexer": "ipython3",
   "version": "3.11.5"
  }
 },
 "nbformat": 4,
 "nbformat_minor": 2
}
