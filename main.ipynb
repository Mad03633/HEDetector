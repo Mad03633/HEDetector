{
 "cells": [
  {
   "cell_type": "code",
   "execution_count": 19,
   "metadata": {},
   "outputs": [],
   "source": [
    "import cv2"
   ]
  },
  {
   "cell_type": "code",
   "execution_count": 20,
   "metadata": {},
   "outputs": [],
   "source": [
    "# Load the input image\n",
    "img = cv2.imread(\"image.jpg\")\n",
    "\n",
    "# Resize the input\n",
    "img_resized = cv2.resize(img, (224, 224))"
   ]
  },
  {
   "cell_type": "code",
   "execution_count": 21,
   "metadata": {},
   "outputs": [],
   "source": [
    "blob = cv2.dnn.blobFromImage(img_resized, scalefactor=1.0, size=(224, 224), swapRB=False, crop=False)\n",
    "\n",
    "# Load the pre-trained HED model using Caffe framework\n",
    "net = cv2.dnn.readNetFromCaffe(\"deploy.prototxt\", \"hed_pretrained_bsds.caffemodel\")"
   ]
  },
  {
   "cell_type": "code",
   "execution_count": 22,
   "metadata": {},
   "outputs": [],
   "source": [
    "net.setInput(blob)\n",
    "\n",
    "# Perform a forward pass to compute the edge detection result\n",
    "hed = net.forward()"
   ]
  },
  {
   "cell_type": "code",
   "execution_count": 23,
   "metadata": {},
   "outputs": [],
   "source": [
    "# Resize the HED result to match the original image dimensions\n",
    "hed = cv2.resize(hed[0, 0], (224, 224))\n",
    "\n",
    "# Convert the HED result to an 8-bit image format\n",
    "hed = (255 * hed).astype(\"uint8\")"
   ]
  },
  {
   "cell_type": "code",
   "execution_count": 24,
   "metadata": {},
   "outputs": [
    {
     "data": {
      "text/plain": [
       "-1"
      ]
     },
     "execution_count": 24,
     "metadata": {},
     "output_type": "execute_result"
    }
   ],
   "source": [
    "# Convert the grayscale HED output to BGR format so it can be concatenated with the color input image\n",
    "hed_bgr = cv2.cvtColor(hed, cv2.COLOR_GRAY2BGR)\n",
    "\n",
    "# Ensure both images are the same size before concatenation\n",
    "combined = cv2.hconcat([img_resized, hed_bgr])\n",
    "\n",
    "cv2.imshow(\"Input and HED Output\", combined)\n",
    "\n",
    "cv2.imwrite(\"input_resized_img.png\", img_resized)\n",
    "cv2.imwrite(\"hed_output.png\", hed_bgr)\n",
    "\n",
    "cv2.waitKey(0)"
   ]
  }
 ],
 "metadata": {
  "kernelspec": {
   "display_name": "Python 3",
   "language": "python",
   "name": "python3"
  },
  "language_info": {
   "codemirror_mode": {
    "name": "ipython",
    "version": 3
   },
   "file_extension": ".py",
   "mimetype": "text/x-python",
   "name": "python",
   "nbconvert_exporter": "python",
   "pygments_lexer": "ipython3",
   "version": "3.11.5"
  }
 },
 "nbformat": 4,
 "nbformat_minor": 2
}
